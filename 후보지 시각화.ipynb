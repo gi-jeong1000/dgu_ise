{
 "cells": [
  {
   "cell_type": "markdown",
   "metadata": {},
   "source": [
    "# 학교"
   ]
  },
  {
   "cell_type": "code",
   "execution_count": 2,
   "metadata": {
    "ExecuteTime": {
     "end_time": "2024-05-23T07:33:17.392727Z",
     "start_time": "2024-05-23T07:33:13.017014Z"
    }
   },
   "outputs": [],
   "source": [
    "import pandas as pd"
   ]
  },
  {
   "cell_type": "code",
   "execution_count": 3,
   "metadata": {},
   "outputs": [],
   "source": [
    "df = pd.read_csv(\"전국초중등학교위치표준데이터.csv\", encoding='cp949')"
   ]
  },
  {
   "cell_type": "code",
   "execution_count": 4,
   "metadata": {},
   "outputs": [],
   "source": [
    "contains_keyword = df[df['소재지지번주소'].str.contains('경상남도|부산광역시|울산')]"
   ]
  },
  {
   "cell_type": "code",
   "execution_count": 5,
   "metadata": {},
   "outputs": [
    {
     "data": {
      "text/html": [
       "<div>\n",
       "<style scoped>\n",
       "    .dataframe tbody tr th:only-of-type {\n",
       "        vertical-align: middle;\n",
       "    }\n",
       "\n",
       "    .dataframe tbody tr th {\n",
       "        vertical-align: top;\n",
       "    }\n",
       "\n",
       "    .dataframe thead th {\n",
       "        text-align: right;\n",
       "    }\n",
       "</style>\n",
       "<table border=\"1\" class=\"dataframe\">\n",
       "  <thead>\n",
       "    <tr style=\"text-align: right;\">\n",
       "      <th></th>\n",
       "      <th>학교명</th>\n",
       "      <th>위도</th>\n",
       "      <th>경도</th>\n",
       "    </tr>\n",
       "  </thead>\n",
       "  <tbody>\n",
       "    <tr>\n",
       "      <th>0</th>\n",
       "      <td>울산마이스터고등학교</td>\n",
       "      <td>35.560757</td>\n",
       "      <td>129.378178</td>\n",
       "    </tr>\n",
       "    <tr>\n",
       "      <th>1</th>\n",
       "      <td>부곡초등학교</td>\n",
       "      <td>35.436800</td>\n",
       "      <td>128.601562</td>\n",
       "    </tr>\n",
       "    <tr>\n",
       "      <th>2</th>\n",
       "      <td>김해중앙여자고등학교</td>\n",
       "      <td>35.232601</td>\n",
       "      <td>128.888617</td>\n",
       "    </tr>\n",
       "    <tr>\n",
       "      <th>3</th>\n",
       "      <td>인지중학교</td>\n",
       "      <td>35.204051</td>\n",
       "      <td>129.125590</td>\n",
       "    </tr>\n",
       "    <tr>\n",
       "      <th>4</th>\n",
       "      <td>개운중학교</td>\n",
       "      <td>35.412391</td>\n",
       "      <td>129.169984</td>\n",
       "    </tr>\n",
       "    <tr>\n",
       "      <th>...</th>\n",
       "      <td>...</td>\n",
       "      <td>...</td>\n",
       "      <td>...</td>\n",
       "    </tr>\n",
       "    <tr>\n",
       "      <th>1837</th>\n",
       "      <td>대암초등학교</td>\n",
       "      <td>35.205866</td>\n",
       "      <td>128.709438</td>\n",
       "    </tr>\n",
       "    <tr>\n",
       "      <th>1838</th>\n",
       "      <td>봉곡초등학교</td>\n",
       "      <td>35.194104</td>\n",
       "      <td>128.075782</td>\n",
       "    </tr>\n",
       "    <tr>\n",
       "      <th>1839</th>\n",
       "      <td>창원신월고등학교</td>\n",
       "      <td>35.226838</td>\n",
       "      <td>128.693672</td>\n",
       "    </tr>\n",
       "    <tr>\n",
       "      <th>1840</th>\n",
       "      <td>덕천중학교</td>\n",
       "      <td>35.214234</td>\n",
       "      <td>129.011813</td>\n",
       "    </tr>\n",
       "    <tr>\n",
       "      <th>1841</th>\n",
       "      <td>일광중학교</td>\n",
       "      <td>35.265227</td>\n",
       "      <td>129.220461</td>\n",
       "    </tr>\n",
       "  </tbody>\n",
       "</table>\n",
       "<p>1842 rows × 3 columns</p>\n",
       "</div>"
      ],
      "text/plain": [
       "             학교명         위도          경도\n",
       "0     울산마이스터고등학교  35.560757  129.378178\n",
       "1         부곡초등학교  35.436800  128.601562\n",
       "2     김해중앙여자고등학교  35.232601  128.888617\n",
       "3          인지중학교  35.204051  129.125590\n",
       "4          개운중학교  35.412391  129.169984\n",
       "...          ...        ...         ...\n",
       "1837      대암초등학교  35.205866  128.709438\n",
       "1838      봉곡초등학교  35.194104  128.075782\n",
       "1839    창원신월고등학교  35.226838  128.693672\n",
       "1840       덕천중학교  35.214234  129.011813\n",
       "1841       일광중학교  35.265227  129.220461\n",
       "\n",
       "[1842 rows x 3 columns]"
      ]
     },
     "execution_count": 5,
     "metadata": {},
     "output_type": "execute_result"
    }
   ],
   "source": [
    "school = contains_keyword[['학교명', '위도', '경도']].reset_index().drop(\"index\", axis = 1)\n",
    "school"
   ]
  },
  {
   "cell_type": "markdown",
   "metadata": {},
   "source": [
    "# 공원"
   ]
  },
  {
   "cell_type": "code",
   "execution_count": 7,
   "metadata": {},
   "outputs": [],
   "source": [
    "import pandas as pd\n",
    "import numpy as np"
   ]
  },
  {
   "cell_type": "code",
   "execution_count": 8,
   "metadata": {},
   "outputs": [],
   "source": [
    "park_df = pd.read_csv(\"전국도시공원정보표준데이터.csv\", encoding =\"CP949\")"
   ]
  },
  {
   "cell_type": "code",
   "execution_count": 9,
   "metadata": {},
   "outputs": [],
   "source": [
    "park_df.dropna(subset=['소재지지번주소'], inplace=True)\n",
    "sec_df = park_df[park_df['소재지지번주소'].str.contains('경상남도|부산광역시|울산')]"
   ]
  },
  {
   "cell_type": "code",
   "execution_count": 10,
   "metadata": {},
   "outputs": [
    {
     "data": {
      "text/html": [
       "<div>\n",
       "<style scoped>\n",
       "    .dataframe tbody tr th:only-of-type {\n",
       "        vertical-align: middle;\n",
       "    }\n",
       "\n",
       "    .dataframe tbody tr th {\n",
       "        vertical-align: top;\n",
       "    }\n",
       "\n",
       "    .dataframe thead th {\n",
       "        text-align: right;\n",
       "    }\n",
       "</style>\n",
       "<table border=\"1\" class=\"dataframe\">\n",
       "  <thead>\n",
       "    <tr style=\"text-align: right;\">\n",
       "      <th></th>\n",
       "      <th>소재지지번주소</th>\n",
       "      <th>위도</th>\n",
       "      <th>경도</th>\n",
       "    </tr>\n",
       "  </thead>\n",
       "  <tbody>\n",
       "    <tr>\n",
       "      <th>0</th>\n",
       "      <td>경상남도 창원시 성산구 중앙동 20-2</td>\n",
       "      <td>35.227394</td>\n",
       "      <td>128.675104</td>\n",
       "    </tr>\n",
       "    <tr>\n",
       "      <th>1</th>\n",
       "      <td>경상남도 창원시 성산구 사파동 72-1</td>\n",
       "      <td>35.221795</td>\n",
       "      <td>128.702275</td>\n",
       "    </tr>\n",
       "    <tr>\n",
       "      <th>2</th>\n",
       "      <td>경상남도 창원시 성산구 사파동 109-1</td>\n",
       "      <td>35.220745</td>\n",
       "      <td>128.699059</td>\n",
       "    </tr>\n",
       "    <tr>\n",
       "      <th>3</th>\n",
       "      <td>경상남도 창원시 성산구 사파동 115</td>\n",
       "      <td>35.222356</td>\n",
       "      <td>128.696864</td>\n",
       "    </tr>\n",
       "    <tr>\n",
       "      <th>4</th>\n",
       "      <td>경상남도 창원시 성산구 상남동 42-1</td>\n",
       "      <td>35.220407</td>\n",
       "      <td>128.685959</td>\n",
       "    </tr>\n",
       "    <tr>\n",
       "      <th>...</th>\n",
       "      <td>...</td>\n",
       "      <td>...</td>\n",
       "      <td>...</td>\n",
       "    </tr>\n",
       "    <tr>\n",
       "      <th>2407</th>\n",
       "      <td>경상남도 창원시 진해구 석동 647-1</td>\n",
       "      <td>35.157126</td>\n",
       "      <td>128.704628</td>\n",
       "    </tr>\n",
       "    <tr>\n",
       "      <th>2408</th>\n",
       "      <td>경상남도 창원시 진해구 석동 661</td>\n",
       "      <td>35.155642</td>\n",
       "      <td>128.709718</td>\n",
       "    </tr>\n",
       "    <tr>\n",
       "      <th>2409</th>\n",
       "      <td>경상남도 창원시 진해구 자은동 760-2</td>\n",
       "      <td>35.142667</td>\n",
       "      <td>128.708524</td>\n",
       "    </tr>\n",
       "    <tr>\n",
       "      <th>2410</th>\n",
       "      <td>경상남도 창원시 진해구 장천동 119-33</td>\n",
       "      <td>35.126888</td>\n",
       "      <td>128.707643</td>\n",
       "    </tr>\n",
       "    <tr>\n",
       "      <th>2411</th>\n",
       "      <td>경상남도 창원시 진해구 석동 671</td>\n",
       "      <td>35.158282</td>\n",
       "      <td>128.695187</td>\n",
       "    </tr>\n",
       "  </tbody>\n",
       "</table>\n",
       "<p>2412 rows × 3 columns</p>\n",
       "</div>"
      ],
      "text/plain": [
       "                      소재지지번주소         위도          경도\n",
       "0       경상남도 창원시 성산구 중앙동 20-2  35.227394  128.675104\n",
       "1       경상남도 창원시 성산구 사파동 72-1  35.221795  128.702275\n",
       "2      경상남도 창원시 성산구 사파동 109-1  35.220745  128.699059\n",
       "3        경상남도 창원시 성산구 사파동 115  35.222356  128.696864\n",
       "4       경상남도 창원시 성산구 상남동 42-1  35.220407  128.685959\n",
       "...                       ...        ...         ...\n",
       "2407    경상남도 창원시 진해구 석동 647-1  35.157126  128.704628\n",
       "2408      경상남도 창원시 진해구 석동 661  35.155642  128.709718\n",
       "2409   경상남도 창원시 진해구 자은동 760-2  35.142667  128.708524\n",
       "2410  경상남도 창원시 진해구 장천동 119-33  35.126888  128.707643\n",
       "2411      경상남도 창원시 진해구 석동 671  35.158282  128.695187\n",
       "\n",
       "[2412 rows x 3 columns]"
      ]
     },
     "execution_count": 10,
     "metadata": {},
     "output_type": "execute_result"
    }
   ],
   "source": [
    "park = sec_df[[\"소재지지번주소\",\"위도\",\"경도\"]].reset_index(drop = True)\n",
    "park"
   ]
  },
  {
   "cell_type": "markdown",
   "metadata": {},
   "source": [
    "# 휴게소"
   ]
  },
  {
   "cell_type": "code",
   "execution_count": 11,
   "metadata": {},
   "outputs": [],
   "source": [
    "rest = pd.read_csv(\"전국휴게소정보표준데이터.csv\", encoding =\"CP949\")\n",
    "rest = rest[rest['휴게소명'].str.contains('경상남도|부산|울산')]\n",
    "rest = rest[[\"휴게소명\",\"위도\",\"경도\"]].reset_index(drop = True)"
   ]
  },
  {
   "cell_type": "code",
   "execution_count": 12,
   "metadata": {},
   "outputs": [],
   "source": [
    "is_booleung = (rest['위도'] >= 34) & (rest['위도'] <= 36) & \\\n",
    "              (rest['경도'] >= 127) & (rest['경도'] <= 129.5)\n",
    "\n",
    "rest = rest[is_booleung]"
   ]
  },
  {
   "cell_type": "code",
   "execution_count": 13,
   "metadata": {},
   "outputs": [
    {
     "data": {
      "text/html": [
       "<div>\n",
       "<style scoped>\n",
       "    .dataframe tbody tr th:only-of-type {\n",
       "        vertical-align: middle;\n",
       "    }\n",
       "\n",
       "    .dataframe tbody tr th {\n",
       "        vertical-align: top;\n",
       "    }\n",
       "\n",
       "    .dataframe thead th {\n",
       "        text-align: right;\n",
       "    }\n",
       "</style>\n",
       "<table border=\"1\" class=\"dataframe\">\n",
       "  <thead>\n",
       "    <tr style=\"text-align: right;\">\n",
       "      <th></th>\n",
       "      <th>휴게소명</th>\n",
       "      <th>위도</th>\n",
       "      <th>경도</th>\n",
       "    </tr>\n",
       "  </thead>\n",
       "  <tbody>\n",
       "    <tr>\n",
       "      <th>2</th>\n",
       "      <td>사천(부산)</td>\n",
       "      <td>35.073173</td>\n",
       "      <td>128.010802</td>\n",
       "    </tr>\n",
       "    <tr>\n",
       "      <th>4</th>\n",
       "      <td>섬진강(부산)</td>\n",
       "      <td>34.984700</td>\n",
       "      <td>127.770697</td>\n",
       "    </tr>\n",
       "    <tr>\n",
       "      <th>9</th>\n",
       "      <td>외동(부산)</td>\n",
       "      <td>35.672753</td>\n",
       "      <td>129.285277</td>\n",
       "    </tr>\n",
       "    <tr>\n",
       "      <th>10</th>\n",
       "      <td>울주(울산)</td>\n",
       "      <td>35.510821</td>\n",
       "      <td>129.130435</td>\n",
       "    </tr>\n",
       "    <tr>\n",
       "      <th>12</th>\n",
       "      <td>진주(부산)</td>\n",
       "      <td>35.159772</td>\n",
       "      <td>128.122010</td>\n",
       "    </tr>\n",
       "    <tr>\n",
       "      <th>18</th>\n",
       "      <td>통도사(부산)</td>\n",
       "      <td>35.488841</td>\n",
       "      <td>129.090775</td>\n",
       "    </tr>\n",
       "    <tr>\n",
       "      <th>19</th>\n",
       "      <td>평사(부산)</td>\n",
       "      <td>35.885522</td>\n",
       "      <td>128.867541</td>\n",
       "    </tr>\n",
       "    <tr>\n",
       "      <th>20</th>\n",
       "      <td>함안(부산)</td>\n",
       "      <td>35.294068</td>\n",
       "      <td>128.346957</td>\n",
       "    </tr>\n",
       "    <tr>\n",
       "      <th>22</th>\n",
       "      <td>건천(부산)</td>\n",
       "      <td>35.830716</td>\n",
       "      <td>129.109310</td>\n",
       "    </tr>\n",
       "    <tr>\n",
       "      <th>23</th>\n",
       "      <td>경주(부산)</td>\n",
       "      <td>35.724761</td>\n",
       "      <td>129.192950</td>\n",
       "    </tr>\n",
       "    <tr>\n",
       "      <th>27</th>\n",
       "      <td>통도사휴게소(부산방향)</td>\n",
       "      <td>35.488787</td>\n",
       "      <td>129.090782</td>\n",
       "    </tr>\n",
       "    <tr>\n",
       "      <th>31</th>\n",
       "      <td>장유(서부산)</td>\n",
       "      <td>35.212074</td>\n",
       "      <td>128.793580</td>\n",
       "    </tr>\n",
       "    <tr>\n",
       "      <th>33</th>\n",
       "      <td>진영(부산)</td>\n",
       "      <td>35.277910</td>\n",
       "      <td>128.715388</td>\n",
       "    </tr>\n",
       "  </tbody>\n",
       "</table>\n",
       "</div>"
      ],
      "text/plain": [
       "            휴게소명         위도          경도\n",
       "2         사천(부산)  35.073173  128.010802\n",
       "4        섬진강(부산)  34.984700  127.770697\n",
       "9         외동(부산)  35.672753  129.285277\n",
       "10        울주(울산)  35.510821  129.130435\n",
       "12        진주(부산)  35.159772  128.122010\n",
       "18       통도사(부산)  35.488841  129.090775\n",
       "19        평사(부산)  35.885522  128.867541\n",
       "20        함안(부산)  35.294068  128.346957\n",
       "22        건천(부산)  35.830716  129.109310\n",
       "23        경주(부산)  35.724761  129.192950\n",
       "27  통도사휴게소(부산방향)  35.488787  129.090782\n",
       "31       장유(서부산)  35.212074  128.793580\n",
       "33        진영(부산)  35.277910  128.715388"
      ]
     },
     "execution_count": 13,
     "metadata": {},
     "output_type": "execute_result"
    }
   ],
   "source": [
    "rest"
   ]
  },
  {
   "cell_type": "markdown",
   "metadata": {},
   "source": [
    "# 체육시설"
   ]
  },
  {
   "cell_type": "code",
   "execution_count": 14,
   "metadata": {},
   "outputs": [],
   "source": [
    "sports = pd.read_csv(\"전국공공체육시설.csv\")\n",
    "sports.dropna(subset=['RDNMADR_NM'], inplace=True)\n",
    "sports.dropna(subset=['FCLTY_LO'], inplace=True)\n",
    "sports.dropna(subset=['FCLTY_LA'], inplace=True)"
   ]
  },
  {
   "cell_type": "code",
   "execution_count": 15,
   "metadata": {},
   "outputs": [],
   "source": [
    "sports = sports[sports['RDNMADR_NM'].str.contains('경상남도|부산광역시|울산|경남')]"
   ]
  },
  {
   "cell_type": "code",
   "execution_count": 16,
   "metadata": {},
   "outputs": [],
   "source": [
    "# sports = sports[sports['RDNMADR_NM'].str.contains('경상남도|부산광역시|울산')]\n",
    "sports = sports[[\"FCLTY_NM\",\"FCLTY_LA\", \"FCLTY_LO\",\"INDUTY_NM\"]].reset_index(drop = True)\n",
    "sports = sports.rename(columns = {\"FCLTY_NM\" : \"체육시설\"})\n",
    "sports = sports.rename(columns = {\"FCLTY_LO\" : \"경도\"})\n",
    "sports = sports.rename(columns = {\"FCLTY_LA\" : \"위도\"})\n",
    "sports = sports.rename(columns = {\"INDUTY_NM\" : \"종류\"})\n",
    "sports = sports[sports['종류'].isin(['간이운동장', '기타시설', '육상경기장', '야구장', '롤러스케이트장', '양구장'])]"
   ]
  },
  {
   "cell_type": "code",
   "execution_count": 17,
   "metadata": {},
   "outputs": [
    {
     "data": {
      "text/html": [
       "<div>\n",
       "<style scoped>\n",
       "    .dataframe tbody tr th:only-of-type {\n",
       "        vertical-align: middle;\n",
       "    }\n",
       "\n",
       "    .dataframe tbody tr th {\n",
       "        vertical-align: top;\n",
       "    }\n",
       "\n",
       "    .dataframe thead th {\n",
       "        text-align: right;\n",
       "    }\n",
       "</style>\n",
       "<table border=\"1\" class=\"dataframe\">\n",
       "  <thead>\n",
       "    <tr style=\"text-align: right;\">\n",
       "      <th></th>\n",
       "      <th>체육시설</th>\n",
       "      <th>위도</th>\n",
       "      <th>경도</th>\n",
       "    </tr>\n",
       "  </thead>\n",
       "  <tbody>\n",
       "    <tr>\n",
       "      <th>0</th>\n",
       "      <td>배구장</td>\n",
       "      <td>35.648683</td>\n",
       "      <td>127.693186</td>\n",
       "    </tr>\n",
       "    <tr>\n",
       "      <th>1</th>\n",
       "      <td>산청군 산청읍 모고리 (모고마을) 운동기구</td>\n",
       "      <td>35.430756</td>\n",
       "      <td>127.888530</td>\n",
       "    </tr>\n",
       "    <tr>\n",
       "      <th>2</th>\n",
       "      <td>산청군 산청읍 범학리 (범학마을) 운동기구</td>\n",
       "      <td>35.389140</td>\n",
       "      <td>127.913929</td>\n",
       "    </tr>\n",
       "    <tr>\n",
       "      <th>3</th>\n",
       "      <td>산청군 산청읍 산청리 (청호마을)운동기구</td>\n",
       "      <td>35.416847</td>\n",
       "      <td>127.877755</td>\n",
       "    </tr>\n",
       "    <tr>\n",
       "      <th>4</th>\n",
       "      <td>수철마을(마을회관 옆) 운동기구</td>\n",
       "      <td>35.404681</td>\n",
       "      <td>127.826368</td>\n",
       "    </tr>\n",
       "    <tr>\n",
       "      <th>...</th>\n",
       "      <td>...</td>\n",
       "      <td>...</td>\n",
       "      <td>...</td>\n",
       "    </tr>\n",
       "    <tr>\n",
       "      <th>2930</th>\n",
       "      <td>(공원-97) 두전마을소공원 야외운동시설</td>\n",
       "      <td>35.382533</td>\n",
       "      <td>129.027184</td>\n",
       "    </tr>\n",
       "    <tr>\n",
       "      <th>2931</th>\n",
       "      <td>(공원-99) 양주마을공원 야외운동시설</td>\n",
       "      <td>35.412532</td>\n",
       "      <td>129.066856</td>\n",
       "    </tr>\n",
       "    <tr>\n",
       "      <th>2934</th>\n",
       "      <td>낙동제방(삼락IC 밑)</td>\n",
       "      <td>35.196557</td>\n",
       "      <td>128.987832</td>\n",
       "    </tr>\n",
       "    <tr>\n",
       "      <th>2935</th>\n",
       "      <td>S,K사택옆 체육시설</td>\n",
       "      <td>35.554087</td>\n",
       "      <td>129.288523</td>\n",
       "    </tr>\n",
       "    <tr>\n",
       "      <th>2936</th>\n",
       "      <td>금산근린공원 X게임장</td>\n",
       "      <td>35.308577</td>\n",
       "      <td>129.026129</td>\n",
       "    </tr>\n",
       "  </tbody>\n",
       "</table>\n",
       "<p>2291 rows × 3 columns</p>\n",
       "</div>"
      ],
      "text/plain": [
       "                         체육시설         위도          경도\n",
       "0                         배구장  35.648683  127.693186\n",
       "1     산청군 산청읍 모고리 (모고마을) 운동기구  35.430756  127.888530\n",
       "2     산청군 산청읍 범학리 (범학마을) 운동기구  35.389140  127.913929\n",
       "3      산청군 산청읍 산청리 (청호마을)운동기구  35.416847  127.877755\n",
       "4           수철마을(마을회관 옆) 운동기구  35.404681  127.826368\n",
       "...                       ...        ...         ...\n",
       "2930   (공원-97) 두전마을소공원 야외운동시설  35.382533  129.027184\n",
       "2931    (공원-99) 양주마을공원 야외운동시설  35.412532  129.066856\n",
       "2934             낙동제방(삼락IC 밑)  35.196557  128.987832\n",
       "2935              S,K사택옆 체육시설  35.554087  129.288523\n",
       "2936              금산근린공원 X게임장  35.308577  129.026129\n",
       "\n",
       "[2291 rows x 3 columns]"
      ]
     },
     "execution_count": 17,
     "metadata": {},
     "output_type": "execute_result"
    }
   ],
   "source": [
    "sports = sports.drop(\"종류\", axis = 1)\n",
    "sports"
   ]
  },
  {
   "cell_type": "markdown",
   "metadata": {},
   "source": [
    "# 이름 바꾸기"
   ]
  },
  {
   "cell_type": "code",
   "execution_count": 18,
   "metadata": {},
   "outputs": [],
   "source": [
    "# 첫 번째 열 이름 변경\n",
    "sports.columns = ['공공장소', '위도', '경도']\n",
    "rest.columns = ['공공장소', '위도', '경도']\n",
    "school.columns = ['공공장소', '위도', '경도']\n",
    "park.columns = ['공공장소', '위도', '경도']\n",
    "\n",
    "# 데이터프레임 concat\n",
    "# total_df = pd.concat([sports, rest, school, park], ignore_index=True)"
   ]
  },
  {
   "cell_type": "code",
   "execution_count": 3,
   "metadata": {
    "ExecuteTime": {
     "end_time": "2024-05-23T07:33:17.402287Z",
     "start_time": "2024-05-23T07:33:17.393395Z"
    }
   },
   "outputs": [],
   "source": [
    "# total_df = total_df[total_df[\"위도\"] <= 36]\n",
    "total_df = pd.read_csv(\"top_solution_1.csv\")"
   ]
  },
  {
   "cell_type": "code",
   "execution_count": 4,
   "metadata": {
    "ExecuteTime": {
     "end_time": "2024-05-23T07:33:18.629056Z",
     "start_time": "2024-05-23T07:33:18.614201Z"
    }
   },
   "outputs": [
    {
     "data": {
      "text/plain": "      Index   Latitude   Longitude\n0         0  35.648683  127.693186\n1         1  35.404681  127.826368\n2         2  35.488792  128.597822\n3         3  35.462395  128.645564\n4         4  35.345811  129.075440\n...     ...        ...         ...\n2659   2659  35.562789  129.232492\n2660   2660  35.559023  129.129965\n2661   2661  35.552870  129.252616\n2662   2662  35.561794  129.128891\n2663   2663  35.100714  128.743476\n\n[2664 rows x 3 columns]",
      "text/html": "<div>\n<style scoped>\n    .dataframe tbody tr th:only-of-type {\n        vertical-align: middle;\n    }\n\n    .dataframe tbody tr th {\n        vertical-align: top;\n    }\n\n    .dataframe thead th {\n        text-align: right;\n    }\n</style>\n<table border=\"1\" class=\"dataframe\">\n  <thead>\n    <tr style=\"text-align: right;\">\n      <th></th>\n      <th>Index</th>\n      <th>Latitude</th>\n      <th>Longitude</th>\n    </tr>\n  </thead>\n  <tbody>\n    <tr>\n      <th>0</th>\n      <td>0</td>\n      <td>35.648683</td>\n      <td>127.693186</td>\n    </tr>\n    <tr>\n      <th>1</th>\n      <td>1</td>\n      <td>35.404681</td>\n      <td>127.826368</td>\n    </tr>\n    <tr>\n      <th>2</th>\n      <td>2</td>\n      <td>35.488792</td>\n      <td>128.597822</td>\n    </tr>\n    <tr>\n      <th>3</th>\n      <td>3</td>\n      <td>35.462395</td>\n      <td>128.645564</td>\n    </tr>\n    <tr>\n      <th>4</th>\n      <td>4</td>\n      <td>35.345811</td>\n      <td>129.075440</td>\n    </tr>\n    <tr>\n      <th>...</th>\n      <td>...</td>\n      <td>...</td>\n      <td>...</td>\n    </tr>\n    <tr>\n      <th>2659</th>\n      <td>2659</td>\n      <td>35.562789</td>\n      <td>129.232492</td>\n    </tr>\n    <tr>\n      <th>2660</th>\n      <td>2660</td>\n      <td>35.559023</td>\n      <td>129.129965</td>\n    </tr>\n    <tr>\n      <th>2661</th>\n      <td>2661</td>\n      <td>35.552870</td>\n      <td>129.252616</td>\n    </tr>\n    <tr>\n      <th>2662</th>\n      <td>2662</td>\n      <td>35.561794</td>\n      <td>129.128891</td>\n    </tr>\n    <tr>\n      <th>2663</th>\n      <td>2663</td>\n      <td>35.100714</td>\n      <td>128.743476</td>\n    </tr>\n  </tbody>\n</table>\n<p>2664 rows × 3 columns</p>\n</div>"
     },
     "execution_count": 4,
     "metadata": {},
     "output_type": "execute_result"
    }
   ],
   "source": [
    "total_df"
   ]
  },
  {
   "cell_type": "code",
   "execution_count": 21,
   "metadata": {},
   "outputs": [],
   "source": [
    "# 엑셀로\n",
    "location = total_df.drop(\"공공장소\",axis = 1)"
   ]
  },
  {
   "cell_type": "code",
   "execution_count": 22,
   "metadata": {},
   "outputs": [],
   "source": [
    "location.to_csv(\"공공장소_위도경도.csv\")"
   ]
  },
  {
   "cell_type": "code",
   "execution_count": 5,
   "metadata": {
    "ExecuteTime": {
     "end_time": "2024-05-23T07:33:41.990312Z",
     "start_time": "2024-05-23T07:33:38.045345Z"
    }
   },
   "outputs": [
    {
     "name": "stdout",
     "output_type": "stream",
     "text": [
      "Collecting geopy\r\n",
      "  Downloading geopy-2.4.1-py3-none-any.whl.metadata (6.8 kB)\r\n",
      "Collecting geographiclib<3,>=1.52 (from geopy)\r\n",
      "  Downloading geographiclib-2.0-py3-none-any.whl.metadata (1.4 kB)\r\n",
      "Downloading geopy-2.4.1-py3-none-any.whl (125 kB)\r\n",
      "\u001B[2K   \u001B[90m━━━━━━━━━━━━━━━━━━━━━━━━━━━━━━━━━━━━━━━━\u001B[0m \u001B[32m125.4/125.4 kB\u001B[0m \u001B[31m1.3 MB/s\u001B[0m eta \u001B[36m0:00:00\u001B[0m \u001B[36m0:00:01\u001B[0m\r\n",
      "\u001B[?25hDownloading geographiclib-2.0-py3-none-any.whl (40 kB)\r\n",
      "\u001B[2K   \u001B[90m━━━━━━━━━━━━━━━━━━━━━━━━━━━━━━━━━━━━━━━━\u001B[0m \u001B[32m40.3/40.3 kB\u001B[0m \u001B[31m1.7 MB/s\u001B[0m eta \u001B[36m0:00:00\u001B[0m\r\n",
      "\u001B[?25hInstalling collected packages: geographiclib, geopy\r\n",
      "Successfully installed geographiclib-2.0 geopy-2.4.1\r\n"
     ]
    }
   ],
   "source": [
    "!pip install geopy"
   ]
  },
  {
   "cell_type": "code",
   "execution_count": 6,
   "metadata": {
    "ExecuteTime": {
     "end_time": "2024-05-23T07:33:46.385747Z",
     "start_time": "2024-05-23T07:33:46.378086Z"
    }
   },
   "outputs": [],
   "source": [
    "points_to_check = [\n",
    "    (35.1763252, 128.0956717),\n",
    "    (35.5200702, 129.4289116),\n",
    "    (35.1008477, 129.0188032)\n",
    "]\n",
    "\n",
    "# 순서대로 경상국립대학교병원, 울산대학교병원, 부산대학교병원"
   ]
  },
  {
   "cell_type": "code",
   "execution_count": 13,
   "metadata": {
    "ExecuteTime": {
     "end_time": "2024-05-23T07:36:37.900912Z",
     "start_time": "2024-05-23T07:36:36.160593Z"
    }
   },
   "outputs": [],
   "source": [
    "## \n",
    "\n",
    "import folium\n",
    "import pandas as pd\n",
    "from geopy.distance import geodesic\n",
    "\n",
    "# 지도 초기 위치 설정\n",
    "map_center = [total_df['Latitude'].mean(), total_df['Longitude'].mean()]\n",
    "\n",
    "# 반경 내 점 제거 함수\n",
    "def filter_points_within_radius(df, points, radius_km):\n",
    "    indices_to_remove = set()\n",
    "    for point in points:\n",
    "        for i, row in df.iterrows():\n",
    "            if geodesic(point, (row['Latitude'], row['Longitude'])).km <= radius_km:\n",
    "                indices_to_remove.add(i)\n",
    "    return df.drop(indices_to_remove)\n",
    "\n",
    "# 반경 10km 내 점 제거\n",
    "filtered_df = filter_points_within_radius(total_df, points_to_check, 10)\n",
    "\n",
    "# 지도 생성\n",
    "m = folium.Map(location=map_center, zoom_start=10)\n",
    "\n",
    "# 필터링된 점 추가\n",
    "for i in range(len(filtered_df)):\n",
    "    folium.Circle(\n",
    "        location=[filtered_df.iloc[i]['Latitude'], filtered_df.iloc[i]['Longitude']],\n",
    "        radius=10,  # 점의 반지름 설정 (원의 반지름)\n",
    "        color='red',  # 점의 색상\n",
    "        fill=True,\n",
    "        fill_color='red',  # 점의 내부 색상\n",
    "        fill_opacity=1,  # 점의 투명도 (1이면 완전 불투명)\n",
    "    ).add_to(m)\n",
    "\n",
    "# 지정된 3개의 점에 대해 반경 10km 원 추가\n",
    "for point in points_to_check:\n",
    "    folium.Circle(\n",
    "        location=point,\n",
    "        radius=10000,  # 반경 10km\n",
    "        color='blue',  # 원의 색상\n",
    "        fill=True,\n",
    "        fill_color='blue',  # 원의 내부 색상\n",
    "        fill_opacity=0.1,  # 원의 투명도 (0.2로 설정하여 반투명)\n",
    "    ).add_to(m)\n",
    "    folium.Marker(\n",
    "        location=point,\n",
    "        popup=f'Point: {point}',\n",
    "        icon=folium.Icon(color='blue')\n",
    "    ).add_to(m)\n",
    "\n",
    "# 지도를 HTML 파일로 저장\n",
    "m.save('부울경인계점위치_권역외상반경10제외_중간좌표색0.html')"
   ]
  },
  {
   "cell_type": "code",
   "execution_count": 11,
   "outputs": [
    {
     "name": "stdout",
     "output_type": "stream",
     "text": [
      "Collecting folium\r\n",
      "  Downloading folium-0.16.0-py2.py3-none-any.whl.metadata (3.6 kB)\r\n",
      "Collecting branca>=0.6.0 (from folium)\r\n",
      "  Downloading branca-0.7.2-py3-none-any.whl.metadata (1.5 kB)\r\n",
      "Requirement already satisfied: jinja2>=2.9 in /opt/anaconda3/lib/python3.11/site-packages (from folium) (3.1.3)\r\n",
      "Requirement already satisfied: numpy in /opt/anaconda3/lib/python3.11/site-packages (from folium) (1.26.4)\r\n",
      "Requirement already satisfied: requests in /opt/anaconda3/lib/python3.11/site-packages (from folium) (2.31.0)\r\n",
      "Requirement already satisfied: xyzservices in /opt/anaconda3/lib/python3.11/site-packages (from folium) (2022.9.0)\r\n",
      "Requirement already satisfied: MarkupSafe>=2.0 in /opt/anaconda3/lib/python3.11/site-packages (from jinja2>=2.9->folium) (2.1.3)\r\n",
      "Requirement already satisfied: charset-normalizer<4,>=2 in /opt/anaconda3/lib/python3.11/site-packages (from requests->folium) (2.0.4)\r\n",
      "Requirement already satisfied: idna<4,>=2.5 in /opt/anaconda3/lib/python3.11/site-packages (from requests->folium) (3.4)\r\n",
      "Requirement already satisfied: urllib3<3,>=1.21.1 in /opt/anaconda3/lib/python3.11/site-packages (from requests->folium) (2.0.7)\r\n",
      "Requirement already satisfied: certifi>=2017.4.17 in /opt/anaconda3/lib/python3.11/site-packages (from requests->folium) (2024.2.2)\r\n",
      "Downloading folium-0.16.0-py2.py3-none-any.whl (100 kB)\r\n",
      "\u001B[2K   \u001B[90m━━━━━━━━━━━━━━━━━━━━━━━━━━━━━━━━━━━━━━━━\u001B[0m \u001B[32m100.0/100.0 kB\u001B[0m \u001B[31m1.5 MB/s\u001B[0m eta \u001B[36m0:00:00\u001B[0m \u001B[36m0:00:01\u001B[0m\r\n",
      "\u001B[?25hDownloading branca-0.7.2-py3-none-any.whl (25 kB)\r\n",
      "Installing collected packages: branca, folium\r\n",
      "Successfully installed branca-0.7.2 folium-0.16.0\r\n"
     ]
    }
   ],
   "source": [
    "!pip install folium"
   ],
   "metadata": {
    "collapsed": false,
    "ExecuteTime": {
     "start_time": "2024-05-23T07:36:06.571887Z"
    }
   }
  },
  {
   "cell_type": "code",
   "execution_count": 40,
   "metadata": {},
   "outputs": [],
   "source": [
    "## 반경 20 제외 \n",
    "\n",
    "import folium\n",
    "import pandas as pd\n",
    "from geopy.distance import geodesic\n",
    "\n",
    "# 지도 초기 위치 설정\n",
    "map_center = [total_df['위도'].mean(), total_df['경도'].mean()]\n",
    "\n",
    "# 반경 내 점 제거 함수\n",
    "def filter_points_within_radius(df, points, radius_km):\n",
    "    indices_to_remove = set()\n",
    "    for point in points:\n",
    "        for i, row in df.iterrows():\n",
    "            if geodesic(point, (row['위도'], row['경도'])).km <= radius_km:\n",
    "                indices_to_remove.add(i)\n",
    "    return df.drop(indices_to_remove)\n",
    "\n",
    "# 반경 20km 내 점 제거\n",
    "filtered_df_20 = filter_points_within_radius(total_df, points_to_check, 20)\n",
    "\n",
    "# 지도 생성\n",
    "m = folium.Map(location=map_center, zoom_start=10)\n",
    "\n",
    "# 필터링된 점 추가\n",
    "for i in range(len(filtered_df_20)):\n",
    "    folium.Circle(\n",
    "        location=[filtered_df_20.iloc[i]['위도'], filtered_df_20.iloc[i]['경도']],\n",
    "        radius=10,  # 점의 반지름 설정 (원의 반지름)\n",
    "        color='red',  # 점의 색상\n",
    "        fill=True,\n",
    "        fill_color='red',  # 점의 내부 색상\n",
    "        fill_opacity=1,  # 점의 투명도 (1이면 완전 불투명)\n",
    "    ).add_to(m)\n",
    "\n",
    "# 지정된 3개의 점에 대해 반경 20km 원 추가\n",
    "for point in points_to_check:\n",
    "    folium.Circle(\n",
    "        location=point,\n",
    "        radius=20000,  # 반경 10km\n",
    "        color='blue',  # 원의 색상\n",
    "        fill=True,\n",
    "        fill_color='blue',  # 원의 내부 색상\n",
    "        fill_opacity=0.1,  # 원의 투명도 (0.2로 설정하여 반투명)\n",
    "    ).add_to(m)\n",
    "    folium.Marker(\n",
    "        location=point,\n",
    "        popup=f'Point: {point}',\n",
    "        icon=folium.Icon(color='blue')\n",
    "    ).add_to(m)\n",
    "\n",
    "# 지도를 HTML 파일로 저장\n",
    "m.save('20km.html')"
   ]
  },
  {
   "cell_type": "code",
   "execution_count": 36,
   "metadata": {},
   "outputs": [],
   "source": [
    "filter_loc = filtered_df.drop(\"공공장소\",axis = 1)\n",
    "filter_loc.to_csv(\"10km_제외_위도경도.csv\")"
   ]
  },
  {
   "cell_type": "code",
   "execution_count": 28,
   "metadata": {},
   "outputs": [],
   "source": [
    "import folium\n",
    "import pandas as pd\n",
    "from geopy.distance import geodesic\n",
    "\n",
    "# 지도 초기 위치 설정\n",
    "map_center = [total_df['위도'].mean(), total_df['경도'].mean()]\n",
    "\n",
    "# 반경 내 점 제거 함수\n",
    "def filter_points_within_radius(df, points, radius_km):\n",
    "    indices_to_remove = set()\n",
    "    for point in points:\n",
    "        for i, row in df.iterrows():\n",
    "            if geodesic(point, (row['위도'], row['경도'])).km <= radius_km:\n",
    "                indices_to_remove.add(i)\n",
    "    return df.drop(indices_to_remove)\n",
    "\n",
    "# 반경 10km 내 점 제거\n",
    "filtered_df = filter_points_within_radius(total_df, points_to_check, 10)\n",
    "\n",
    "# 지도 생성\n",
    "m = folium.Map(location=map_center, zoom_start=10)\n",
    "\n",
    "# 필터링된 점 추가\n",
    "for i in range(len(filtered_df)):\n",
    "    folium.Circle(\n",
    "        location=[filtered_df.iloc[i]['위도'], filtered_df.iloc[i]['경도']],\n",
    "        radius=10,  # 점의 반지름 설정 (원의 반지름)\n",
    "        color='red',  # 점의 색상\n",
    "        fill=True,\n",
    "        fill_color='red',  # 점의 내부 색상\n",
    "        fill_opacity=1,  # 점의 투명도 (1이면 완전 불투명)\n",
    "    ).add_to(m)\n",
    "\n",
    "# 지도를 HTML 파일로 저장\n",
    "m.save('최종공공장소위치_필터링.html')"
   ]
  },
  {
   "cell_type": "code",
   "execution_count": 38,
   "metadata": {},
   "outputs": [],
   "source": [
    "## # 원래 기본\n",
    "\n",
    "import folium\n",
    "import pandas as pd\n",
    "\n",
    "# 지도 초기 위치 설정\n",
    "map_center = [filtered_df['위도'].mean(), filtered_df['경도'].mean()]\n",
    "\n",
    "# 지도 생성\n",
    "m = folium.Map(location=map_center, zoom_start=10)\n",
    "\n",
    "# 각 학교에 대해 점 추가\n",
    "for i in range(len(filtered_df)):\n",
    "    folium.Circle(\n",
    "        location=[filtered_df.iloc[i]['위도'], filtered_df.iloc[i]['경도']],\n",
    "        radius=10,  # 점의 반지름 설정 (원의 반지름)\n",
    "        color='red',  # 점의 색상\n",
    "        fill=True,\n",
    "        fill_color='red',  # 점의 내부 색상\n",
    "        fill_opacity=1,  # 점의 투명도 (1이면 완전 불투명)\n",
    "    ).add_to(m)\n",
    "\n",
    "# 지도를 HTML 파일로 저장\n",
    "m.save('check.html')"
   ]
  },
  {
   "cell_type": "code",
   "execution_count": null,
   "metadata": {},
   "outputs": [],
   "source": []
  },
  {
   "cell_type": "code",
   "execution_count": null,
   "metadata": {},
   "outputs": [],
   "source": []
  }
 ],
 "metadata": {
  "kernelspec": {
   "display_name": "Python 3 (ipykernel)",
   "language": "python",
   "name": "python3"
  },
  "language_info": {
   "codemirror_mode": {
    "name": "ipython",
    "version": 3
   },
   "file_extension": ".py",
   "mimetype": "text/x-python",
   "name": "python",
   "nbconvert_exporter": "python",
   "pygments_lexer": "ipython3",
   "version": "3.9.13"
  },
  "toc": {
   "base_numbering": 1,
   "nav_menu": {},
   "number_sections": true,
   "sideBar": true,
   "skip_h1_title": false,
   "title_cell": "Table of Contents",
   "title_sidebar": "Contents",
   "toc_cell": false,
   "toc_position": {},
   "toc_section_display": true,
   "toc_window_display": false
  }
 },
 "nbformat": 4,
 "nbformat_minor": 4
}
